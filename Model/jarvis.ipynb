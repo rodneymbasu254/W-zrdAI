{
 "cells": [
  {
   "cell_type": "code",
   "execution_count": 2,
   "id": "cf5b87d9-f8f7-4e3d-a51b-aa70490d9947",
   "metadata": {},
   "outputs": [],
   "source": [
    "import requests\n",
    "import bs4\n",
    "import pyttsx3"
   ]
  },
  {
   "cell_type": "code",
   "execution_count": 4,
   "id": "e01f08aa-f36b-4840-82ec-56e3cda62670",
   "metadata": {},
   "outputs": [],
   "source": [
    "engine = pyttsx3.init()\n",
    "engine.say(\"Hello rodney\")\n",
    "engine.runAndWait()"
   ]
  },
  {
   "cell_type": "code",
   "execution_count": 16,
   "id": "70e18f5e-e164-45d3-89d9-767dd82204a3",
   "metadata": {},
   "outputs": [],
   "source": [
    "engine = pyttsx3.init()\n",
    "engine.say(task)\n",
    "engine.runAndWait()"
   ]
  },
  {
   "cell_type": "code",
   "execution_count": 1,
   "id": "42c8650c-c0fe-4bb4-98aa-eb4a16e26e2e",
   "metadata": {},
   "outputs": [
    {
     "name": "stdout",
     "output_type": "stream",
     "text": [
      "Listening offline with Vosk...\n",
      "\n",
      "Stopped by user.\n"
     ]
    },
    {
     "ename": "NameError",
     "evalue": "name 'p' is not defined",
     "output_type": "error",
     "traceback": [
      "\u001b[1;31m---------------------------------------------------------------------------\u001b[0m",
      "\u001b[1;31mKeyboardInterrupt\u001b[0m                         Traceback (most recent call last)",
      "Cell \u001b[1;32mIn[1], line 25\u001b[0m\n\u001b[0;32m     24\u001b[0m data \u001b[38;5;241m=\u001b[39m stream\u001b[38;5;241m.\u001b[39mread(\u001b[38;5;241m2048\u001b[39m, exception_on_overflow\u001b[38;5;241m=\u001b[39m\u001b[38;5;28;01mFalse\u001b[39;00m)\n\u001b[1;32m---> 25\u001b[0m \u001b[38;5;28;01mif\u001b[39;00m \u001b[43mrecognizer\u001b[49m\u001b[38;5;241;43m.\u001b[39;49m\u001b[43mAcceptWaveform\u001b[49m\u001b[43m(\u001b[49m\u001b[43mdata\u001b[49m\u001b[43m)\u001b[49m:\n\u001b[0;32m     26\u001b[0m     result \u001b[38;5;241m=\u001b[39m json\u001b[38;5;241m.\u001b[39mloads(recognizer\u001b[38;5;241m.\u001b[39mResult())\n",
      "File \u001b[1;32m~\\AppData\\Local\\Programs\\Python\\Python312\\Lib\\site-packages\\vosk\\__init__.py:182\u001b[0m, in \u001b[0;36mKaldiRecognizer.AcceptWaveform\u001b[1;34m(self, data)\u001b[0m\n\u001b[0;32m    181\u001b[0m \u001b[38;5;28;01mdef\u001b[39;00m \u001b[38;5;21mAcceptWaveform\u001b[39m(\u001b[38;5;28mself\u001b[39m, data):\n\u001b[1;32m--> 182\u001b[0m     res \u001b[38;5;241m=\u001b[39m \u001b[43m_c\u001b[49m\u001b[38;5;241;43m.\u001b[39;49m\u001b[43mvosk_recognizer_accept_waveform\u001b[49m\u001b[43m(\u001b[49m\u001b[38;5;28;43mself\u001b[39;49m\u001b[38;5;241;43m.\u001b[39;49m\u001b[43m_handle\u001b[49m\u001b[43m,\u001b[49m\u001b[43m \u001b[49m\u001b[43mdata\u001b[49m\u001b[43m,\u001b[49m\u001b[43m \u001b[49m\u001b[38;5;28;43mlen\u001b[39;49m\u001b[43m(\u001b[49m\u001b[43mdata\u001b[49m\u001b[43m)\u001b[49m\u001b[43m)\u001b[49m\n\u001b[0;32m    183\u001b[0m     \u001b[38;5;28;01mif\u001b[39;00m res \u001b[38;5;241m<\u001b[39m \u001b[38;5;241m0\u001b[39m:\n",
      "\u001b[1;31mKeyboardInterrupt\u001b[0m: ",
      "\nDuring handling of the above exception, another exception occurred:\n",
      "\u001b[1;31mNameError\u001b[0m                                 Traceback (most recent call last)",
      "Cell \u001b[1;32mIn[1], line 33\u001b[0m\n\u001b[0;32m     31\u001b[0m stream\u001b[38;5;241m.\u001b[39mstop_stream()\n\u001b[0;32m     32\u001b[0m stream\u001b[38;5;241m.\u001b[39mclose()\n\u001b[1;32m---> 33\u001b[0m \u001b[43mp\u001b[49m\u001b[38;5;241m.\u001b[39mterminate()\n",
      "\u001b[1;31mNameError\u001b[0m: name 'p' is not defined"
     ]
    }
   ],
   "source": [
    "from vosk import Model, KaldiRecognizer\n",
    "import pyaudio\n",
    "import json\n",
    "import os\n",
    "import time\n",
    "\n",
    "model = Model(\"C:/Users/Home/Documents/Downloads/vosk-model-en-us-0.22-lgraph/vosk-model-en-us-0.22-lgraph\")\n",
    "recognizer = KaldiRecognizer(model, 16000)\n",
    "\n",
    "mic = pyaudio.PyAudio()\n",
    "stream = mic.open(format=pyaudio.paInt16, channels=1, rate=16000, input=True, frames_per_buffer=8192)\n",
    "stream.start_stream()\n",
    "\n",
    "print(\"Listening offline with Vosk...\")\n",
    "\n",
    "#while True:\n",
    "    #data = stream.read(4096, exception_on_overflow=False)\n",
    "    #if recognizer.AcceptWaveform(data):\n",
    "        #result = json.loads(recognizer.Result())\n",
    "        #print(\"You said:\", result['text'])\n",
    "\n",
    "try:\n",
    "    while True:\n",
    "        data = stream.read(2048, exception_on_overflow=False)\n",
    "        if recognizer.AcceptWaveform(data):\n",
    "            result = json.loads(recognizer.Result())\n",
    "            print(\"You said:\", result['text'])\n",
    "        time.sleep(0.01)\n",
    "except KeyboardInterrupt:\n",
    "    print(\"\\nStopped by user.\")\n",
    "    stream.stop_stream()\n",
    "    stream.close()\n",
    "    p.terminate()\n"
   ]
  },
  {
   "cell_type": "code",
   "execution_count": null,
   "id": "416d64b4-7a44-4dad-a176-38532003a782",
   "metadata": {},
   "outputs": [
    {
     "name": "stdout",
     "output_type": "stream",
     "text": [
      "JARVIS: Hello! I'm your assistant. What can I help you with today?\n",
      "You said: the for\n",
      "JARVIS: Sorry, I didn't catch a command. Try again?\n",
      "JARVIS: Anything else you'd like to add?\n"
     ]
    }
   ],
   "source": [
    "import os\n",
    "import json\n",
    "import time\n",
    "import pyttsx3\n",
    "import pyaudio\n",
    "from vosk import Model, KaldiRecognizer\n",
    "\n",
    "model_path = \"C:/Users/Home/Documents/Downloads/vosk-model-en-us-0.22-lgraph/vosk-model-en-us-0.22-lgraph\"\n",
    "model = Model(model_path)\n",
    "recognizer = KaldiRecognizer(model, 16000)\n",
    "\n",
    "engine = pyttsx3.init()\n",
    "engine.setProperty('rate', 160)\n",
    "engine.setProperty('volume', 1.0)\n",
    "\n",
    "DATA_FILE = \"jarvis_data.json\"\n",
    "if not os.path.exists(DATA_FILE):\n",
    "    with open(DATA_FILE, \"w\") as f:\n",
    "        json.dump({\"ideas\": [], \"reminders\": []}, f)\n",
    "\n",
    "p = pyaudio.PyAudio()\n",
    "stream = p.open(format=pyaudio.paInt16, channels=1, rate=16000,\n",
    "                input=True, frames_per_buffer=2048)\n",
    "stream.start_stream()\n",
    "\n",
    "def speak(text):\n",
    "    print(\"JARVIS:\", text)\n",
    "    engine.say(text)\n",
    "    engine.runAndWait()\n",
    "\n",
    "def save_data(intent, content):\n",
    "    with open(DATA_FILE, \"r+\") as f:\n",
    "        data = json.load(f)\n",
    "        data[intent].append(content)\n",
    "        f.seek(0)\n",
    "        json.dump(data, f, indent=2)\n",
    "\n",
    "def parse_command(text):\n",
    "    text = text.lower()\n",
    "    if \"idea\" in text:\n",
    "        idea = text.replace(\"add idea\", \"\").strip()\n",
    "        save_data(\"ideas\", idea)\n",
    "        speak(\"Noted your idea. Great thinking!\")\n",
    "    elif \"remind me\" in text:\n",
    "        reminder = text.replace(\"remind me to\", \"\").strip()\n",
    "        save_data(\"reminders\", reminder)\n",
    "        speak(f\"I'll remind you to {reminder}.\")\n",
    "    elif \"stop\" in text or \"exit\" in text:\n",
    "        speak(\"Goodbye, stay productive!\")\n",
    "        return \"exit\"\n",
    "    else:\n",
    "        speak(\"Sorry, I didn't catch a command. Try again?\")\n",
    "    return \"continue\"\n",
    "\n",
    "speak(\"Hello! I'm your assistant. What can I help you with today?\")\n",
    "\n",
    "try:\n",
    "    while True:\n",
    "        data = stream.read(2048, exception_on_overflow=False)\n",
    "        if recognizer.AcceptWaveform(data):\n",
    "            result = json.loads(recognizer.Result())\n",
    "            text = result.get(\"text\", \"\")\n",
    "            if text:\n",
    "                print(\"You said:\", text)\n",
    "                status = parse_command(text)\n",
    "                if status == \"exit\":\n",
    "                    break\n",
    "                speak(\"Anything else you'd like to add?\")\n",
    "except KeyboardInterrupt:\n",
    "    speak(\"Session ended. Goodbye.\")\n",
    "finally:\n",
    "    stream.stop_stream()\n",
    "    stream.close()\n",
    "    p.terminate()\n"
   ]
  },
  {
   "cell_type": "code",
   "execution_count": null,
   "id": "fd66edbe-c347-4db1-a048-5022886e9349",
   "metadata": {},
   "outputs": [],
   "source": []
  }
 ],
 "metadata": {
  "kernelspec": {
   "display_name": "Python 3 (ipykernel)",
   "language": "python",
   "name": "python3"
  },
  "language_info": {
   "codemirror_mode": {
    "name": "ipython",
    "version": 3
   },
   "file_extension": ".py",
   "mimetype": "text/x-python",
   "name": "python",
   "nbconvert_exporter": "python",
   "pygments_lexer": "ipython3",
   "version": "3.12.3"
  }
 },
 "nbformat": 4,
 "nbformat_minor": 5
}
